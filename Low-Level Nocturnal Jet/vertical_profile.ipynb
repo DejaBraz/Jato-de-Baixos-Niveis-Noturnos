{
 "cells": [
  {
   "cell_type": "code",
   "execution_count": 1,
   "metadata": {},
   "outputs": [
    {
     "data": {
      "text/html": [
       "<div>\n",
       "<style scoped>\n",
       "    .dataframe tbody tr th:only-of-type {\n",
       "        vertical-align: middle;\n",
       "    }\n",
       "\n",
       "    .dataframe tbody tr th {\n",
       "        vertical-align: top;\n",
       "    }\n",
       "\n",
       "    .dataframe thead th {\n",
       "        text-align: right;\n",
       "    }\n",
       "</style>\n",
       "<table border=\"1\" class=\"dataframe\">\n",
       "  <thead>\n",
       "    <tr style=\"text-align: right;\">\n",
       "      <th></th>\n",
       "      <th>Level</th>\n",
       "      <th>Comjato0</th>\n",
       "      <th>Comjato12</th>\n",
       "      <th>Semjato0</th>\n",
       "      <th>Semjato12</th>\n",
       "    </tr>\n",
       "  </thead>\n",
       "  <tbody>\n",
       "    <tr>\n",
       "      <td>0</td>\n",
       "      <td>400</td>\n",
       "      <td>19.476</td>\n",
       "      <td>17.659</td>\n",
       "      <td>21.599</td>\n",
       "      <td>19.293</td>\n",
       "    </tr>\n",
       "    <tr>\n",
       "      <td>1</td>\n",
       "      <td>450</td>\n",
       "      <td>16.106</td>\n",
       "      <td>14.039</td>\n",
       "      <td>18.131</td>\n",
       "      <td>15.759</td>\n",
       "    </tr>\n",
       "    <tr>\n",
       "      <td>2</td>\n",
       "      <td>500</td>\n",
       "      <td>13.116</td>\n",
       "      <td>11.141</td>\n",
       "      <td>15.089</td>\n",
       "      <td>12.879</td>\n",
       "    </tr>\n",
       "    <tr>\n",
       "      <td>3</td>\n",
       "      <td>550</td>\n",
       "      <td>10.481</td>\n",
       "      <td>8.947</td>\n",
       "      <td>12.360</td>\n",
       "      <td>10.774</td>\n",
       "    </tr>\n",
       "    <tr>\n",
       "      <td>4</td>\n",
       "      <td>600</td>\n",
       "      <td>8.335</td>\n",
       "      <td>7.427</td>\n",
       "      <td>10.086</td>\n",
       "      <td>9.363</td>\n",
       "    </tr>\n",
       "  </tbody>\n",
       "</table>\n",
       "</div>"
      ],
      "text/plain": [
       "   Level  Comjato0  Comjato12  Semjato0  Semjato12\n",
       "0    400    19.476     17.659    21.599     19.293\n",
       "1    450    16.106     14.039    18.131     15.759\n",
       "2    500    13.116     11.141    15.089     12.879\n",
       "3    550    10.481      8.947    12.360     10.774\n",
       "4    600     8.335      7.427    10.086      9.363"
      ]
     },
     "execution_count": 1,
     "metadata": {},
     "output_type": "execute_result"
    }
   ],
   "source": [
    "import matplotlib.pyplot as plt\n",
    "import numpy as np\n",
    "import pandas as pd\n",
    "%matplotlib inline\n",
    "import pylab # importando a biblioteca PyLab\n",
    "import csv\n",
    "df = pd.read_csv('Arg.csv', sep=';', na_values=',')\n",
    "\n",
    "df.shape\n",
    "df.head(5)\n"
   ]
  },
  {
   "cell_type": "code",
   "execution_count": 2,
   "metadata": {},
   "outputs": [],
   "source": [
    "df['Comjato0'].nlargest\n",
    "comvento0=df['Comjato0']\n",
    "df['Comjato12'].nlargest\n",
    "comvento12=df['Comjato12']\n",
    "df['Semjato0'].nlargest\n",
    "Semvento0=df['Semjato0']\n",
    "df['Semjato12'].nlargest\n",
    "Semvento12=df['Semjato12']\n",
    "df['Level'].nlargest\n",
    "Z=df['Level']\n"
   ]
  },
  {
   "cell_type": "code",
   "execution_count": 4,
   "metadata": {},
   "outputs": [
    {
     "name": "stderr",
     "output_type": "stream",
     "text": [
      "No handles with labels found to put in legend.\n"
     ]
    },
    {
     "data": {
      "image/png": "[encoded data removed]",
      "text/plain": [
       "<Figure size 432x288 with 1 Axes>"
      ]
     },
     "metadata": {
      "needs_background": "light"
     },
     "output_type": "display_data"
    }
   ],
   "source": [
    "pylab.plot(comvento0, Z, color='red')\n",
    "pylab.plot(comvento12, Z, 'k--',color='red')\n",
    "pylab.plot(Semvento0, Z, color='black')\n",
    "pylab.plot(Semvento12, Z,'k--', color='black')\n",
    "plt.axis([2,13,1000,500])\n",
    "\n",
    "#pylab.xlabel('Temperatura ($^\\circ$C)') # label do eixo X\n",
    "#pylab.ylabel('Profundidade (m)') # label do eixo Y\n",
    "#pylab.title('Perfil de Temperatura') # titulo do grafico\n",
    "pylab.grid(True) # colocando uma grade\n",
    "#pylab.gca().invert_yaxis() # invertendo a orientacao do eixo Y, assim, o topo será o menor valor (''i.e.'' zero) e a base será o maior valor de profundidade.\n",
    "pylab.legend(loc=4) # inserindo uma legenda para o perfil. A opcao loc=4 intrui o Python a colocar a legenda no canto inferior direito.\n",
    "plt.savefig('Arg.pdf')\n",
    "pylab.show()\n",
    "  "
   ]
  },
  {
   "cell_type": "code",
   "execution_count": null,
   "metadata": {},
   "outputs": [],
   "source": []
  }
 ],
 "metadata": {
  "kernelspec": {
   "display_name": "Python 3",
   "language": "python",
   "name": "python3"
  },
  "language_info": {
   "codemirror_mode": {
    "name": "ipython",
    "version": 3
   },
   "file_extension": ".py",
   "mimetype": "text/x-python",
   "name": "python",
   "nbconvert_exporter": "python",
   "pygments_lexer": "ipython3",
   "version": "3.8.5"
  }
 },
 "nbformat": 4,
 "nbformat_minor": 2
}
