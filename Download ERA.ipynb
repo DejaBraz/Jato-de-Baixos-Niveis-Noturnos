{
 "nbformat": 4,
 "nbformat_minor": 0,
 "metadata": {
  "colab": {
   "name": "Download ERA.ipynb",
   "provenance": [],
   "authorship_tag": "ABX9TyNQOJbiBV6JKPa69UFsjm7Y"
  },
  "kernelspec": {
   "name": "python3",
   "display_name": "Python 3"
  },
  "language_info": {
   "name": "python"
  }
 },
 "cells": [
  {
   "cell_type": "markdown",
   "source": [
    "# **Download climate data**\n"
   ],
   "metadata": {
    "id": "Q-kGJMClFxpj"
   }
  },
  {
   "cell_type": "markdown",
   "source": [
    "# Create a Storage or Drive\n"
   ],
   "metadata": {
    "id": "SFgGaMZ2se0V"
   }
  },
  {
   "cell_type": "code",
   "metadata": {
    "colab": {
     "base_uri": "https://localhost:8080/"
    },
    "id": "R7968Is5QKuj"
   },
   "source": [
    "from google.colab import drive\n",
    "drive.mount('/content/drive/')"
   ],
   "execution_count": 1,
   "outputs": []
  },
  {
   "cell_type": "code",
   "source": [
    "pip install cdsapi"
   ],
   "metadata": {
    "colab": {
     "base_uri": "https://localhost:8080/"
    },
    "id": "Qkj1zXTT7BJO"
   },
   "execution_count": 2,
   "outputs": []
  },
  {
   "cell_type": "markdown",
   "source": [
    "**Setting up the CDS request**\n",
    "\n",
    "If you do not have a Copernicus Data Store account, you will need to register and install the API.\n",
    "https://cds.climate.copernicus.eu/api/v2\n",
    "\n",
    "Important: don’t forget to insert your personal key in the following code snippet and remove the curly braces `{}`"
   ],
   "metadata": {
    "id": "EKn13yL3MNDG"
   }
  },
  {
   "cell_type": "code",
   "source": [
    "!echo \"url: https://cds.climate.copernicus.eu/api/v2\" > $HOME/.cdsapirc\n",
    "#!echo \"key: {uid}:{api-key}\" >> $HOME/.cdsapirc\n",
    "!echo \"key: 71806:88f7bad7-3074-42af-8071-1a53eac49e2f\" >> $HOME/.cdsapirc"
   ],
   "metadata": {
    "id": "_qa2fUV17CCu"
   },
   "execution_count": 3,
   "outputs": []
  },
  {
   "cell_type": "code",
   "source": [
    "import cdsapi\n",
    "from fastai.imports import *\n",
    "c = cdsapi.Client()"
   ],
   "metadata": {
    "id": "FWf4vn2jGpU6"
   },
   "execution_count": null,
   "outputs": []
  },
  {
   "cell_type": "markdown",
   "source": [
    "**Configure the type of data**\n",
    "\n",
    "Here you can select any variable, period, and level."
   ],
   "metadata": {
    "id": "bNdZx24mCvJf"
   }
  },
  {
   "cell_type": "code",
   "source": [
    "#!/usr/bin/env python\n",
    "import cdsapi\n",
    "from datetime import datetime, timedelta\n",
    "from dateutil.relativedelta import relativedelta\n",
    " \n",
    "# Example of pressure levels list:\n",
    "# p_levels = [str(z)  for z in ([1] + list(range(50, 1050, 50)))]\n",
    "p_time = [str(time)  for time in ([1] + list(range(00, 23, 10)))]\n",
    "c = cdsapi.Client()\n",
    " \n",
    "def days_of_month(y, m):\n",
    "    d0 = datetime(y, m, 1)\n",
    "    d1 = d0 + relativedelta(months=1)\n",
    "    out = list()\n",
    "    while d0 < d1:\n",
    "        out.append(d0.strftime('%Y-%m-%d'))\n",
    "        d0 += timedelta(days=1)\n",
    "    return out\n",
    " \n",
    "for y in range(2008, 2008):\n",
    "    for m in range(1,2):\n",
    "        for d in days_of_month(y, m):\n",
    "            c.retrieve(\"reanalysis-era5-pressure-levels\",\n",
    "                       {   \"product_type\": \"reanalysis\",\n",
    "                           \"variable\": \"temperature\",\n",
    "                           \"pressure_level\": \"850\",\n",
    "                           \"date\": d,\n",
    "                           \"area\": [20, -110, -60, -10 ], # North, West, South, East. Brazil\n",
    "                           \"time\":p_time,\n",
    "                           \"format\": \"netcdf\"\n",
    "                       },\n",
    "                       \"ea_t_{day}.nc\".format(day=d)\n",
    "                       )"
   ],
   "metadata": {
    "id": "HjI6Ru1Tv0o2"
   },
   "execution_count": 6,
   "outputs": []
  }
 ]
}
